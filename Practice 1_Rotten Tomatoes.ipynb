{
 "cells": [
  {
   "cell_type": "markdown",
   "metadata": {},
   "source": [
    "## Movies Opening This Week"
   ]
  },
  {
   "cell_type": "code",
   "execution_count": 6,
   "metadata": {},
   "outputs": [],
   "source": [
    "import requests\n",
    "from bs4 import BeautifulSoup"
   ]
  },
  {
   "cell_type": "code",
   "execution_count": 7,
   "metadata": {},
   "outputs": [],
   "source": [
    "url = \"https://www.rottentomatoes.com\"\n",
    "response = requests.get(url)"
   ]
  },
  {
   "cell_type": "code",
   "execution_count": 8,
   "metadata": {},
   "outputs": [
    {
     "data": {
      "text/plain": [
       "'<!DOCTYPE '"
      ]
     },
     "execution_count": 8,
     "metadata": {},
     "output_type": "execute_result"
    }
   ],
   "source": [
    "html = response.text\n",
    "html[:10]"
   ]
  },
  {
   "cell_type": "code",
   "execution_count": 9,
   "metadata": {},
   "outputs": [],
   "source": [
    "soup = BeautifulSoup(html, 'html.parser')"
   ]
  },
  {
   "cell_type": "code",
   "execution_count": 10,
   "metadata": {},
   "outputs": [
    {
     "data": {
      "text/plain": [
       "<table class=\"movie_list\" id=\"Opening\">\n",
       "<tr class=\"\">\n",
       "<td class=\"left_col\">\n",
       "<a href=\"/m/spider_man_into_the_spider_verse\">\n",
       "<span class=\"icon tiny certified_fresh\"></span>\n",
       "<span class=\"tMeterScore\">98%</span>\n",
       "</a>\n",
       "</td>\n",
       "<td class=\"middle_col\">\n",
       "<a href=\"/m/spider_man_into_the_spider_verse\">Spider-Man: Into the Spider-Verse</a>\n",
       "</td>\n",
       "<td class=\"right_col right\">\n",
       "<a href=\"/m/spider_man_into_the_spider_verse\">\n",
       "                \n",
       "                    Dec 14\n",
       "                \n",
       "            </a>\n",
       "</td>\n",
       "</tr>\n",
       "<tr class=\"\">\n",
       "<td class=\"left_col\">\n",
       "<a href=\"/m/mortal_engines\">\n",
       "<span class=\"icon tiny rotten\"></span>\n",
       "<span class=\"tMeterScore\">27%</span>\n",
       "</a>\n",
       "</td>\n",
       "<td class=\"middle_col\">\n",
       "<a href=\"/m/mortal_engines\">Mortal Engines</a>\n",
       "</td>\n",
       "<td class=\"right_col right\">\n",
       "<a href=\"/m/mortal_engines\">\n",
       "                \n",
       "                    Dec 14\n",
       "                \n",
       "            </a>\n",
       "</td>\n",
       "</tr>\n",
       "<tr class=\"\">\n",
       "<td class=\"left_col\">\n",
       "<a href=\"/m/the_mule_2018\">\n",
       "<span class=\"icon tiny fresh\"></span>\n",
       "<span class=\"tMeterScore\">65%</span>\n",
       "</a>\n",
       "</td>\n",
       "<td class=\"middle_col\">\n",
       "<a href=\"/m/the_mule_2018\">The Mule</a>\n",
       "</td>\n",
       "<td class=\"right_col right\">\n",
       "<a href=\"/m/the_mule_2018\">\n",
       "                \n",
       "                    Dec 14\n",
       "                \n",
       "            </a>\n",
       "</td>\n",
       "</tr>\n",
       "<tr class=\"\">\n",
       "<td class=\"left_col\">\n",
       "<a href=\"/m/the_house_that_jack_built_2018\">\n",
       "<span class=\"icon tiny fresh\"></span>\n",
       "<span class=\"tMeterScore\">61%</span>\n",
       "</a>\n",
       "</td>\n",
       "<td class=\"middle_col\">\n",
       "<a href=\"/m/the_house_that_jack_built_2018\">The House That Jack Built</a>\n",
       "</td>\n",
       "<td class=\"right_col right\">\n",
       "<a href=\"/m/the_house_that_jack_built_2018\">\n",
       "                \n",
       "                    Dec 14\n",
       "                \n",
       "            </a>\n",
       "</td>\n",
       "</tr>\n",
       "<tr class=\"\">\n",
       "<td class=\"left_col\">\n",
       "<a href=\"/m/if_beale_street_could_talk\">\n",
       "<span class=\"icon tiny certified_fresh\"></span>\n",
       "<span class=\"tMeterScore\">93%</span>\n",
       "</a>\n",
       "</td>\n",
       "<td class=\"middle_col\">\n",
       "<a href=\"/m/if_beale_street_could_talk\">If Beale Street Could Talk</a>\n",
       "</td>\n",
       "<td class=\"right_col right\">\n",
       "<a href=\"/m/if_beale_street_could_talk\">\n",
       "                \n",
       "                    Dec 14\n",
       "                \n",
       "            </a>\n",
       "</td>\n",
       "</tr>\n",
       "<tr class=\"\">\n",
       "<td class=\"left_col\">\n",
       "<a href=\"/m/once_upon_a_deadpool\">\n",
       "<span class=\"icon tiny rotten\"></span>\n",
       "<span class=\"tMeterScore\">51%</span>\n",
       "</a>\n",
       "</td>\n",
       "<td class=\"middle_col\">\n",
       "<a href=\"/m/once_upon_a_deadpool\">Once Upon a Deadpool</a>\n",
       "</td>\n",
       "<td class=\"right_col right\">\n",
       "<a href=\"/m/once_upon_a_deadpool\">\n",
       "                \n",
       "                    Dec 12\n",
       "                \n",
       "            </a>\n",
       "</td>\n",
       "</tr>\n",
       "<tr class=\"\">\n",
       "<td class=\"left_col\">\n",
       "<a href=\"/m/capernaum\">\n",
       "<span class=\"icon tiny fresh\"></span>\n",
       "<span class=\"tMeterScore\">74%</span>\n",
       "</a>\n",
       "</td>\n",
       "<td class=\"middle_col\">\n",
       "<a href=\"/m/capernaum\">Capernaum (Capharnaüm)</a>\n",
       "</td>\n",
       "<td class=\"right_col right\">\n",
       "<a href=\"/m/capernaum\">\n",
       "                \n",
       "                    Dec 14\n",
       "                \n",
       "            </a>\n",
       "</td>\n",
       "</tr>\n",
       "<tr class=\"\">\n",
       "<td class=\"left_col\">\n",
       "<a href=\"/m/bird_box\">\n",
       "<span class=\"icon tiny fresh\"></span>\n",
       "<span class=\"tMeterScore\">61%</span>\n",
       "</a>\n",
       "</td>\n",
       "<td class=\"middle_col\">\n",
       "<a href=\"/m/bird_box\">Bird Box</a>\n",
       "</td>\n",
       "<td class=\"right_col right\">\n",
       "<a href=\"/m/bird_box\">\n",
       "                \n",
       "                    Dec 13\n",
       "                \n",
       "            </a>\n",
       "</td>\n",
       "</tr>\n",
       "<tr class=\"\">\n",
       "<td class=\"left_col\">\n",
       "<a href=\"/m/the_second_time_around_2018\">\n",
       "<span class=\"icon tiny fresh\"></span>\n",
       "<span class=\"tMeterScore\">86%</span>\n",
       "</a>\n",
       "</td>\n",
       "<td class=\"middle_col\">\n",
       "<a href=\"/m/the_second_time_around_2018\">The Second Time Around</a>\n",
       "</td>\n",
       "<td class=\"right_col right\">\n",
       "<a href=\"/m/the_second_time_around_2018\">\n",
       "                \n",
       "                    Dec 14\n",
       "                \n",
       "            </a>\n",
       "</td>\n",
       "</tr>\n",
       "<tr class=\"\">\n",
       "<td class=\"left_col\">\n",
       "<a href=\"/m/the_quake\">\n",
       "<span class=\"icon tiny fresh\"></span>\n",
       "<span class=\"tMeterScore\">71%</span>\n",
       "</a>\n",
       "</td>\n",
       "<td class=\"middle_col\">\n",
       "<a href=\"/m/the_quake\">The Quake (Skjelvet)</a>\n",
       "</td>\n",
       "<td class=\"right_col right\">\n",
       "<a href=\"/m/the_quake\">\n",
       "                \n",
       "                    Dec 14\n",
       "                \n",
       "            </a>\n",
       "</td>\n",
       "</tr>\n",
       "</table>"
      ]
     },
     "execution_count": 10,
     "metadata": {},
     "output_type": "execute_result"
    }
   ],
   "source": [
    "table = soup.find('table', attrs = {'id' : 'Opening'})\n",
    "table"
   ]
  },
  {
   "cell_type": "code",
   "execution_count": 12,
   "metadata": {},
   "outputs": [
    {
     "data": {
      "text/plain": [
       "[<tr class=\"\">\n",
       " <td class=\"left_col\">\n",
       " <a href=\"/m/spider_man_into_the_spider_verse\">\n",
       " <span class=\"icon tiny certified_fresh\"></span>\n",
       " <span class=\"tMeterScore\">98%</span>\n",
       " </a>\n",
       " </td>\n",
       " <td class=\"middle_col\">\n",
       " <a href=\"/m/spider_man_into_the_spider_verse\">Spider-Man: Into the Spider-Verse</a>\n",
       " </td>\n",
       " <td class=\"right_col right\">\n",
       " <a href=\"/m/spider_man_into_the_spider_verse\">\n",
       "                 \n",
       "                     Dec 14\n",
       "                 \n",
       "             </a>\n",
       " </td>\n",
       " </tr>, <tr class=\"\">\n",
       " <td class=\"left_col\">\n",
       " <a href=\"/m/mortal_engines\">\n",
       " <span class=\"icon tiny rotten\"></span>\n",
       " <span class=\"tMeterScore\">27%</span>\n",
       " </a>\n",
       " </td>\n",
       " <td class=\"middle_col\">\n",
       " <a href=\"/m/mortal_engines\">Mortal Engines</a>\n",
       " </td>\n",
       " <td class=\"right_col right\">\n",
       " <a href=\"/m/mortal_engines\">\n",
       "                 \n",
       "                     Dec 14\n",
       "                 \n",
       "             </a>\n",
       " </td>\n",
       " </tr>, <tr class=\"\">\n",
       " <td class=\"left_col\">\n",
       " <a href=\"/m/the_mule_2018\">\n",
       " <span class=\"icon tiny fresh\"></span>\n",
       " <span class=\"tMeterScore\">65%</span>\n",
       " </a>\n",
       " </td>\n",
       " <td class=\"middle_col\">\n",
       " <a href=\"/m/the_mule_2018\">The Mule</a>\n",
       " </td>\n",
       " <td class=\"right_col right\">\n",
       " <a href=\"/m/the_mule_2018\">\n",
       "                 \n",
       "                     Dec 14\n",
       "                 \n",
       "             </a>\n",
       " </td>\n",
       " </tr>, <tr class=\"\">\n",
       " <td class=\"left_col\">\n",
       " <a href=\"/m/the_house_that_jack_built_2018\">\n",
       " <span class=\"icon tiny fresh\"></span>\n",
       " <span class=\"tMeterScore\">61%</span>\n",
       " </a>\n",
       " </td>\n",
       " <td class=\"middle_col\">\n",
       " <a href=\"/m/the_house_that_jack_built_2018\">The House That Jack Built</a>\n",
       " </td>\n",
       " <td class=\"right_col right\">\n",
       " <a href=\"/m/the_house_that_jack_built_2018\">\n",
       "                 \n",
       "                     Dec 14\n",
       "                 \n",
       "             </a>\n",
       " </td>\n",
       " </tr>, <tr class=\"\">\n",
       " <td class=\"left_col\">\n",
       " <a href=\"/m/if_beale_street_could_talk\">\n",
       " <span class=\"icon tiny certified_fresh\"></span>\n",
       " <span class=\"tMeterScore\">93%</span>\n",
       " </a>\n",
       " </td>\n",
       " <td class=\"middle_col\">\n",
       " <a href=\"/m/if_beale_street_could_talk\">If Beale Street Could Talk</a>\n",
       " </td>\n",
       " <td class=\"right_col right\">\n",
       " <a href=\"/m/if_beale_street_could_talk\">\n",
       "                 \n",
       "                     Dec 14\n",
       "                 \n",
       "             </a>\n",
       " </td>\n",
       " </tr>, <tr class=\"\">\n",
       " <td class=\"left_col\">\n",
       " <a href=\"/m/once_upon_a_deadpool\">\n",
       " <span class=\"icon tiny rotten\"></span>\n",
       " <span class=\"tMeterScore\">51%</span>\n",
       " </a>\n",
       " </td>\n",
       " <td class=\"middle_col\">\n",
       " <a href=\"/m/once_upon_a_deadpool\">Once Upon a Deadpool</a>\n",
       " </td>\n",
       " <td class=\"right_col right\">\n",
       " <a href=\"/m/once_upon_a_deadpool\">\n",
       "                 \n",
       "                     Dec 12\n",
       "                 \n",
       "             </a>\n",
       " </td>\n",
       " </tr>, <tr class=\"\">\n",
       " <td class=\"left_col\">\n",
       " <a href=\"/m/capernaum\">\n",
       " <span class=\"icon tiny fresh\"></span>\n",
       " <span class=\"tMeterScore\">74%</span>\n",
       " </a>\n",
       " </td>\n",
       " <td class=\"middle_col\">\n",
       " <a href=\"/m/capernaum\">Capernaum (Capharnaüm)</a>\n",
       " </td>\n",
       " <td class=\"right_col right\">\n",
       " <a href=\"/m/capernaum\">\n",
       "                 \n",
       "                     Dec 14\n",
       "                 \n",
       "             </a>\n",
       " </td>\n",
       " </tr>, <tr class=\"\">\n",
       " <td class=\"left_col\">\n",
       " <a href=\"/m/bird_box\">\n",
       " <span class=\"icon tiny fresh\"></span>\n",
       " <span class=\"tMeterScore\">61%</span>\n",
       " </a>\n",
       " </td>\n",
       " <td class=\"middle_col\">\n",
       " <a href=\"/m/bird_box\">Bird Box</a>\n",
       " </td>\n",
       " <td class=\"right_col right\">\n",
       " <a href=\"/m/bird_box\">\n",
       "                 \n",
       "                     Dec 13\n",
       "                 \n",
       "             </a>\n",
       " </td>\n",
       " </tr>, <tr class=\"\">\n",
       " <td class=\"left_col\">\n",
       " <a href=\"/m/the_second_time_around_2018\">\n",
       " <span class=\"icon tiny fresh\"></span>\n",
       " <span class=\"tMeterScore\">86%</span>\n",
       " </a>\n",
       " </td>\n",
       " <td class=\"middle_col\">\n",
       " <a href=\"/m/the_second_time_around_2018\">The Second Time Around</a>\n",
       " </td>\n",
       " <td class=\"right_col right\">\n",
       " <a href=\"/m/the_second_time_around_2018\">\n",
       "                 \n",
       "                     Dec 14\n",
       "                 \n",
       "             </a>\n",
       " </td>\n",
       " </tr>, <tr class=\"\">\n",
       " <td class=\"left_col\">\n",
       " <a href=\"/m/the_quake\">\n",
       " <span class=\"icon tiny fresh\"></span>\n",
       " <span class=\"tMeterScore\">71%</span>\n",
       " </a>\n",
       " </td>\n",
       " <td class=\"middle_col\">\n",
       " <a href=\"/m/the_quake\">The Quake (Skjelvet)</a>\n",
       " </td>\n",
       " <td class=\"right_col right\">\n",
       " <a href=\"/m/the_quake\">\n",
       "                 \n",
       "                     Dec 14\n",
       "                 \n",
       "             </a>\n",
       " </td>\n",
       " </tr>]"
      ]
     },
     "execution_count": 12,
     "metadata": {},
     "output_type": "execute_result"
    }
   ],
   "source": [
    "trs = table.find_all('tr')\n",
    "trs"
   ]
  },
  {
   "cell_type": "code",
   "execution_count": 13,
   "metadata": {},
   "outputs": [
    {
     "data": {
      "text/plain": [
       "10"
      ]
     },
     "execution_count": 13,
     "metadata": {},
     "output_type": "execute_result"
    }
   ],
   "source": [
    "len(trs)"
   ]
  },
  {
   "cell_type": "code",
   "execution_count": 14,
   "metadata": {},
   "outputs": [
    {
     "data": {
      "text/plain": [
       "<tr class=\"\">\n",
       "<td class=\"left_col\">\n",
       "<a href=\"/m/spider_man_into_the_spider_verse\">\n",
       "<span class=\"icon tiny certified_fresh\"></span>\n",
       "<span class=\"tMeterScore\">98%</span>\n",
       "</a>\n",
       "</td>\n",
       "<td class=\"middle_col\">\n",
       "<a href=\"/m/spider_man_into_the_spider_verse\">Spider-Man: Into the Spider-Verse</a>\n",
       "</td>\n",
       "<td class=\"right_col right\">\n",
       "<a href=\"/m/spider_man_into_the_spider_verse\">\n",
       "                \n",
       "                    Dec 14\n",
       "                \n",
       "            </a>\n",
       "</td>\n",
       "</tr>"
      ]
     },
     "execution_count": 14,
     "metadata": {},
     "output_type": "execute_result"
    }
   ],
   "source": [
    "trs[0]"
   ]
  },
  {
   "cell_type": "code",
   "execution_count": 15,
   "metadata": {},
   "outputs": [
    {
     "data": {
      "text/plain": [
       "'\\n\\n\\n98%\\n\\n'"
      ]
     },
     "execution_count": 15,
     "metadata": {},
     "output_type": "execute_result"
    }
   ],
   "source": [
    "trs[0].find('td', attrs = {'class' : \"left_col\"}).text"
   ]
  },
  {
   "cell_type": "code",
   "execution_count": 16,
   "metadata": {},
   "outputs": [
    {
     "data": {
      "text/plain": [
       "'98%'"
      ]
     },
     "execution_count": 16,
     "metadata": {},
     "output_type": "execute_result"
    }
   ],
   "source": [
    "rotten_index = trs[0].find('td', attrs = {'class' : \"left_col\"}).text.strip(\"\\n\")\n",
    "rotten_index"
   ]
  },
  {
   "cell_type": "code",
   "execution_count": 17,
   "metadata": {},
   "outputs": [
    {
     "data": {
      "text/plain": [
       "{'href': '/m/spider_man_into_the_spider_verse'}"
      ]
     },
     "execution_count": 17,
     "metadata": {},
     "output_type": "execute_result"
    }
   ],
   "source": [
    "trs[0].find('a').attrs"
   ]
  },
  {
   "cell_type": "code",
   "execution_count": 20,
   "metadata": {},
   "outputs": [
    {
     "data": {
      "text/plain": [
       "'https://www.rottentomatoes.com/m/spider_man_into_the_spider_verse'"
      ]
     },
     "execution_count": 20,
     "metadata": {},
     "output_type": "execute_result"
    }
   ],
   "source": [
    "rotten_url = url+trs[0].find('a').attrs['href']\n",
    "rotten_url"
   ]
  },
  {
   "cell_type": "code",
   "execution_count": 22,
   "metadata": {},
   "outputs": [
    {
     "data": {
      "text/plain": [
       "'Spider-Man: Into the Spider-Verse'"
      ]
     },
     "execution_count": 22,
     "metadata": {},
     "output_type": "execute_result"
    }
   ],
   "source": [
    "rotten_title = trs[0].find('td', attrs = {'class' : \"middle_col\"}).text.strip(\"\\n\")\n",
    "rotten_title"
   ]
  },
  {
   "cell_type": "code",
   "execution_count": 27,
   "metadata": {},
   "outputs": [
    {
     "data": {
      "text/plain": [
       "'Dec 14'"
      ]
     },
     "execution_count": 27,
     "metadata": {},
     "output_type": "execute_result"
    }
   ],
   "source": [
    "rotten_date = trs[0].find('td', {'class' : \"right_col right\"}).text.strip(\"\\n \")\n",
    "rotten_date"
   ]
  },
  {
   "cell_type": "code",
   "execution_count": 30,
   "metadata": {},
   "outputs": [
    {
     "name": "stdout",
     "output_type": "stream",
     "text": [
      "Rotten Index:  98%\n",
      "Link:  https://www.rottentomatoes.com/m/spider_man_into_the_spider_verse\n",
      "Title:  Spider-Man: Into the Spider-Verse\n",
      "Release Date:  Dec 14\n",
      "Rotten Index:  27%\n",
      "Link:  https://www.rottentomatoes.com/m/mortal_engines\n",
      "Title:  Mortal Engines\n",
      "Release Date:  Dec 14\n",
      "Rotten Index:  65%\n",
      "Link:  https://www.rottentomatoes.com/m/the_mule_2018\n",
      "Title:  The Mule\n",
      "Release Date:  Dec 14\n",
      "Rotten Index:  61%\n",
      "Link:  https://www.rottentomatoes.com/m/the_house_that_jack_built_2018\n",
      "Title:  The House That Jack Built\n",
      "Release Date:  Dec 14\n",
      "Rotten Index:  93%\n",
      "Link:  https://www.rottentomatoes.com/m/if_beale_street_could_talk\n",
      "Title:  If Beale Street Could Talk\n",
      "Release Date:  Dec 14\n",
      "Rotten Index:  51%\n",
      "Link:  https://www.rottentomatoes.com/m/once_upon_a_deadpool\n",
      "Title:  Once Upon a Deadpool\n",
      "Release Date:  Dec 12\n",
      "Rotten Index:  74%\n",
      "Link:  https://www.rottentomatoes.com/m/capernaum\n",
      "Title:  Capernaum (Capharnaüm)\n",
      "Release Date:  Dec 14\n",
      "Rotten Index:  61%\n",
      "Link:  https://www.rottentomatoes.com/m/bird_box\n",
      "Title:  Bird Box\n",
      "Release Date:  Dec 13\n",
      "Rotten Index:  86%\n",
      "Link:  https://www.rottentomatoes.com/m/the_second_time_around_2018\n",
      "Title:  The Second Time Around\n",
      "Release Date:  Dec 14\n",
      "Rotten Index:  71%\n",
      "Link:  https://www.rottentomatoes.com/m/the_quake\n",
      "Title:  The Quake (Skjelvet)\n",
      "Release Date:  Dec 14\n"
     ]
    }
   ],
   "source": [
    "for tr in trs:\n",
    "    rotten_index = tr.find('td', attrs = {'class' : \"left_col\"}).text.strip(\"\\n\")\n",
    "    rotten_url = url+tr.find('a').attrs['href']\n",
    "    rotten_title = tr.find('td', attrs = {'class' : \"middle_col\"}).text.strip(\"\\n\")\n",
    "    rotten_date = tr.find('td', {'class' : \"right_col right\"}).text.strip(\"\\n \")\n",
    "    \n",
    "    print(\"Rotten Index: \", rotten_index)\n",
    "    print(\"Link: \", rotten_url)\n",
    "    print(\"Title: \", rotten_title)\n",
    "    print(\"Release Date: \", rotten_date) "
   ]
  },
  {
   "cell_type": "code",
   "execution_count": null,
   "metadata": {},
   "outputs": [],
   "source": []
  },
  {
   "cell_type": "code",
   "execution_count": null,
   "metadata": {},
   "outputs": [],
   "source": []
  },
  {
   "cell_type": "code",
   "execution_count": null,
   "metadata": {},
   "outputs": [],
   "source": []
  },
  {
   "cell_type": "code",
   "execution_count": null,
   "metadata": {},
   "outputs": [],
   "source": []
  },
  {
   "cell_type": "code",
   "execution_count": null,
   "metadata": {},
   "outputs": [],
   "source": []
  },
  {
   "cell_type": "code",
   "execution_count": null,
   "metadata": {},
   "outputs": [],
   "source": []
  }
 ],
 "metadata": {
  "kernelspec": {
   "display_name": "Python 3",
   "language": "python",
   "name": "python3"
  },
  "language_info": {
   "codemirror_mode": {
    "name": "ipython",
    "version": 3
   },
   "file_extension": ".py",
   "mimetype": "text/x-python",
   "name": "python",
   "nbconvert_exporter": "python",
   "pygments_lexer": "ipython3",
   "version": "3.7.1"
  }
 },
 "nbformat": 4,
 "nbformat_minor": 2
}
