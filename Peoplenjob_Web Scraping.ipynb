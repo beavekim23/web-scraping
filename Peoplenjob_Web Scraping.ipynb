{
 "cells": [
  {
   "cell_type": "markdown",
   "metadata": {},
   "source": [
    "# Search jobs abroad\n",
    "## Scrape jobs abroad from peoplenjob.com"
   ]
  },
  {
   "cell_type": "code",
   "execution_count": 5,
   "metadata": {},
   "outputs": [],
   "source": [
    "from selenium import webdriver\n",
    "from time import sleep\n",
    "ch_driver = webdriver.Chrome('C:/Users/beave/AppData/Roaming/Microsoft/Windows/Start Menu/Programs/Python 3.7/chromedriver.exe')"
   ]
  },
  {
   "cell_type": "code",
   "execution_count": 6,
   "metadata": {},
   "outputs": [],
   "source": [
    "ch_driver.implicitly_wait(5) \n",
    "\n",
    "url = 'https://www.peoplenjob.com/'\n",
    "ch_driver.get(url)"
   ]
  },
  {
   "cell_type": "code",
   "execution_count": 7,
   "metadata": {},
   "outputs": [],
   "source": [
    "job_page = ch_driver.find_element_by_link_text(\"채용공고\")\n",
    "job_page.click()\n",
    "sleep(1)"
   ]
  },
  {
   "cell_type": "code",
   "execution_count": 8,
   "metadata": {},
   "outputs": [],
   "source": [
    "job_abroad = ch_driver.find_element_by_link_text(\"해외근무\")\n",
    "job_abroad.click()\n",
    "sleep(1)"
   ]
  },
  {
   "cell_type": "code",
   "execution_count": 9,
   "metadata": {},
   "outputs": [],
   "source": [
    "def get_job_ads(user_input: str):\n",
    "    result = []\n",
    "    job_list = ch_driver.find_elements_by_tag_name(\"tr\")\n",
    "    del job_list[0]\n",
    "    \n",
    "    for item in job_list:\n",
    "        if item.get_attribute(\"class\") == \"info\":\n",
    "            continue\n",
    "       \n",
    "        #get the date uploaded\n",
    "        date = item.find_element_by_class_name(\"date\").text\n",
    "\n",
    "        #get the job position and link\n",
    "        position_link = item.find_element_by_class_name(\"job-title\")\n",
    "        position = position_link.text\n",
    "        link = position_link.find_element_by_tag_name(\"a\").get_attribute(\"href\")\n",
    "\n",
    "        #get job type\n",
    "        job_type = item.find_element_by_class_name(\"job_type\").text\n",
    "\n",
    "        #get company name\n",
    "        name = item.find_element_by_class_name(\"name\").text\n",
    "\n",
    "        #get the working location\n",
    "        tds = item.find_elements_by_tag_name(\"td\")\n",
    "        location = tds[4].find_element_by_tag_name(\"a\").text\n",
    "\n",
    "        #get the due date\n",
    "        due = tds[5].text\n",
    "\n",
    "        #apply search criteria\n",
    "        if user_input not in job_type and user_input not in location:\n",
    "               continue\n",
    "        \n",
    "        result.append([date, position, link, job_type, name, location, due])\n",
    "        \n",
    "    return result"
   ]
  },
  {
   "cell_type": "code",
   "execution_count": 12,
   "metadata": {},
   "outputs": [],
   "source": [
    "def get_all_job_ads():\n",
    "    all_result = []\n",
    "    user_input = input(\"검색어를 입력하세요: \")\n",
    "\n",
    "    #from the first page\n",
    "    all_result.append(get_job_ads(user_input))\n",
    "\n",
    "    #from page 2 to page 3\n",
    "    page_path = '//*[@id=\"content-main\"]/div/div[3]/ul/li['\n",
    "    for i in range(3,5):\n",
    "        page = ch_driver.find_element_by_xpath(page_path + str(i) + ']/a')\n",
    "        page.click()\n",
    "\n",
    "        sleep(1)\n",
    "\n",
    "        all_result.append(get_job_ads(user_input))\n",
    "\n",
    "    return all_result"
   ]
  },
  {
   "cell_type": "code",
   "execution_count": 13,
   "metadata": {},
   "outputs": [
    {
     "name": "stdout",
     "output_type": "stream",
     "text": [
      "검색어를 입력하세요: 무역\n"
     ]
    },
    {
     "data": {
      "text/plain": [
       "[[['2018.12.26',\n",
       "   '대기업 이집트법인 SCM 혁신 업무 담당 사원말대리급',\n",
       "   'https://www.peoplenjob.com/jobs/3621036?page=3&type=overseas',\n",
       "   '무역,수출입',\n",
       "   'HR 컨설팅(주)',\n",
       "   '',\n",
       "   ''],\n",
       "  ['2018.12.20',\n",
       "   '의류무역책임자(대리-부장급)/하노이 근무 관리자',\n",
       "   'https://www.peoplenjob.com/jobs/3616645?page=3&type=overseas',\n",
       "   '무역,수출입',\n",
       "   '(주)잡뉴스솔로몬서치',\n",
       "   '',\n",
       "   '']],\n",
       " [],\n",
       " [['2018.12.26',\n",
       "   '대기업 이집트법인 SCM 혁신 업무 담당 사원말대리급',\n",
       "   'https://www.peoplenjob.com/jobs/3621036?page=3&type=overseas',\n",
       "   '무역,수출입',\n",
       "   'HR 컨설팅(주)',\n",
       "   '',\n",
       "   ''],\n",
       "  ['2018.12.20',\n",
       "   '의류무역책임자(대리-부장급)/하노이 근무 관리자',\n",
       "   'https://www.peoplenjob.com/jobs/3616645?page=3&type=overseas',\n",
       "   '무역,수출입',\n",
       "   '(주)잡뉴스솔로몬서치',\n",
       "   '',\n",
       "   '']]]"
      ]
     },
     "execution_count": 13,
     "metadata": {},
     "output_type": "execute_result"
    }
   ],
   "source": [
    "get_all_job_ads()"
   ]
  },
  {
   "cell_type": "code",
   "execution_count": 14,
   "metadata": {},
   "outputs": [
    {
     "name": "stdout",
     "output_type": "stream",
     "text": [
      "검색어를 입력하세요: 해외\n"
     ]
    },
    {
     "data": {
      "text/plain": [
       "[[['2018.12.25',\n",
       "   '[외국계]Sales Representative 사원',\n",
       "   'https://www.peoplenjob.com/jobs/3620179?page=3&type=overseas',\n",
       "   '해외영업 / 국내영업, 판매세일즈 /',\n",
       "   'Robert Walters Korea',\n",
       "   '',\n",
       "   ''],\n",
       "  ['2018.12.20',\n",
       "   'Senior SW Sales Specialist 중간관리자',\n",
       "   'https://www.peoplenjob.com/jobs/3616976?page=3&type=overseas',\n",
       "   '해외영업 / 기술영업 /',\n",
       "   'Varian Medical Systems Korea',\n",
       "   '',\n",
       "   '']],\n",
       " [['2018.12.27',\n",
       "   'IT솔루션 영업 팀장 (유명대기업) 중간관리자',\n",
       "   'https://www.peoplenjob.com/jobs/3622296?page=2&type=overseas',\n",
       "   '해외영업',\n",
       "   '(주)스카우트',\n",
       "   '',\n",
       "   '']],\n",
       " [['2018.12.25',\n",
       "   '[외국계]Sales Representative 사원',\n",
       "   'https://www.peoplenjob.com/jobs/3620179?page=3&type=overseas',\n",
       "   '해외영업 / 국내영업, 판매세일즈 /',\n",
       "   'Robert Walters Korea',\n",
       "   '',\n",
       "   ''],\n",
       "  ['2018.12.20',\n",
       "   'Senior SW Sales Specialist 중간관리자',\n",
       "   'https://www.peoplenjob.com/jobs/3616976?page=3&type=overseas',\n",
       "   '해외영업 / 기술영업 /',\n",
       "   'Varian Medical Systems Korea',\n",
       "   '',\n",
       "   '']]]"
      ]
     },
     "execution_count": 14,
     "metadata": {},
     "output_type": "execute_result"
    }
   ],
   "source": [
    "get_all_job_ads()"
   ]
  }
 ],
 "metadata": {
  "kernelspec": {
   "display_name": "Python 3",
   "language": "python",
   "name": "python3"
  },
  "language_info": {
   "codemirror_mode": {
    "name": "ipython",
    "version": 3
   },
   "file_extension": ".py",
   "mimetype": "text/x-python",
   "name": "python",
   "nbconvert_exporter": "python",
   "pygments_lexer": "ipython3",
   "version": "3.7.1"
  }
 },
 "nbformat": 4,
 "nbformat_minor": 2
}
