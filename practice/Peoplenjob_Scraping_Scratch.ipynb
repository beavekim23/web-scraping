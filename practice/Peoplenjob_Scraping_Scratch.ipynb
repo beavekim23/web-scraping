{
 "cells": [
  {
   "cell_type": "code",
   "execution_count": 3,
   "metadata": {},
   "outputs": [],
   "source": [
    "from selenium import webdriver\n",
    "from time import sleep\n",
    "ch_driver = webdriver.Chrome('C:/Users/beave/AppData/Roaming/Microsoft/Windows/Start Menu/Programs/Python 3.7/chromedriver.exe')"
   ]
  },
  {
   "cell_type": "code",
   "execution_count": 4,
   "metadata": {},
   "outputs": [],
   "source": [
    "ch_driver.implicitly_wait(5) \n",
    "\n",
    "url = 'https://www.peoplenjob.com/'\n",
    "ch_driver.get(url)"
   ]
  },
  {
   "cell_type": "code",
   "execution_count": 5,
   "metadata": {},
   "outputs": [],
   "source": [
    "job_page = ch_driver.find_element_by_link_text(\"채용공고\")\n",
    "job_page.click()"
   ]
  },
  {
   "cell_type": "code",
   "execution_count": 6,
   "metadata": {},
   "outputs": [],
   "source": [
    "job_abroad = ch_driver.find_element_by_link_text(\"해외근무\")\n",
    "job_abroad.click()"
   ]
  },
  {
   "cell_type": "code",
   "execution_count": 7,
   "metadata": {},
   "outputs": [],
   "source": [
    "job_list = ch_driver.find_elements_by_tag_name(\"tr\")"
   ]
  },
  {
   "cell_type": "code",
   "execution_count": 24,
   "metadata": {},
   "outputs": [
    {
     "data": {
      "text/plain": [
       "41"
      ]
     },
     "execution_count": 24,
     "metadata": {},
     "output_type": "execute_result"
    }
   ],
   "source": [
    "len(job_list)"
   ]
  },
  {
   "cell_type": "code",
   "execution_count": 8,
   "metadata": {},
   "outputs": [
    {
     "data": {
      "text/plain": [
       "40"
      ]
     },
     "execution_count": 8,
     "metadata": {},
     "output_type": "execute_result"
    }
   ],
   "source": [
    "del job_list[0]\n",
    "len(job_list)"
   ]
  },
  {
   "cell_type": "markdown",
   "metadata": {},
   "source": [
    "# From page 1"
   ]
  },
  {
   "cell_type": "code",
   "execution_count": 53,
   "metadata": {},
   "outputs": [
    {
     "data": {
      "text/plain": [
       "'info'"
      ]
     },
     "execution_count": 53,
     "metadata": {},
     "output_type": "execute_result"
    }
   ],
   "source": [
    "job_list[0].get_attribute(\"class\")"
   ]
  },
  {
   "cell_type": "markdown",
   "metadata": {},
   "source": [
    "### Find the date uploaded"
   ]
  },
  {
   "cell_type": "code",
   "execution_count": 29,
   "metadata": {},
   "outputs": [
    {
     "data": {
      "text/plain": [
       "'2018.12.31'"
      ]
     },
     "execution_count": 29,
     "metadata": {},
     "output_type": "execute_result"
    }
   ],
   "source": [
    "job_list[5].find_element_by_class_name(\"date\").text"
   ]
  },
  {
   "cell_type": "markdown",
   "metadata": {},
   "source": [
    "### Find the job position and link"
   ]
  },
  {
   "cell_type": "code",
   "execution_count": 36,
   "metadata": {},
   "outputs": [
    {
     "data": {
      "text/plain": [
       "'[외국계제약대기업/명동/신입가능] Sales&MKT Team Admin 채용'"
      ]
     },
     "execution_count": 36,
     "metadata": {},
     "output_type": "execute_result"
    }
   ],
   "source": [
    "#job position\n",
    "position_link = job_list[5].find_element_by_class_name(\"job-title\")\n",
    "job_position = position_link.text\n",
    "job_position"
   ]
  },
  {
   "cell_type": "code",
   "execution_count": 38,
   "metadata": {},
   "outputs": [
    {
     "data": {
      "text/plain": [
       "'https://www.peoplenjob.com/jobs/3624653?type=overseas'"
      ]
     },
     "execution_count": 38,
     "metadata": {},
     "output_type": "execute_result"
    }
   ],
   "source": [
    "#link\n",
    "position_link.find_element_by_tag_name(\"a\").get_attribute(\"href\")"
   ]
  },
  {
   "cell_type": "markdown",
   "metadata": {},
   "source": [
    "### Find the job type"
   ]
  },
  {
   "cell_type": "code",
   "execution_count": 39,
   "metadata": {},
   "outputs": [
    {
     "data": {
      "text/plain": [
       "'일반사무직 / 영업관리'"
      ]
     },
     "execution_count": 39,
     "metadata": {},
     "output_type": "execute_result"
    }
   ],
   "source": [
    "job_list[5].find_element_by_class_name(\"job_type\").text"
   ]
  },
  {
   "cell_type": "markdown",
   "metadata": {},
   "source": [
    "### Find the company name"
   ]
  },
  {
   "cell_type": "code",
   "execution_count": 40,
   "metadata": {},
   "outputs": [
    {
     "data": {
      "text/plain": [
       "'(주)맨파워코리아'"
      ]
     },
     "execution_count": 40,
     "metadata": {},
     "output_type": "execute_result"
    }
   ],
   "source": [
    "job_list[5].find_element_by_class_name(\"name\").text"
   ]
  },
  {
   "cell_type": "markdown",
   "metadata": {},
   "source": [
    "### Get the working location"
   ]
  },
  {
   "cell_type": "code",
   "execution_count": null,
   "metadata": {},
   "outputs": [],
   "source": [
    "# //*[@id=\"content-main\"]/div/table/tbody/tr[6]/td[5]/a"
   ]
  },
  {
   "cell_type": "code",
   "execution_count": 69,
   "metadata": {},
   "outputs": [
    {
     "data": {
      "text/plain": [
       "'서울'"
      ]
     },
     "execution_count": 69,
     "metadata": {},
     "output_type": "execute_result"
    }
   ],
   "source": [
    "tds = job_list[5].find_elements_by_tag_name(\"td\")\n",
    "location = tds[4].find_element_by_tag_name(\"a\").text\n",
    "loc = location[:2]\n",
    "loc"
   ]
  },
  {
   "cell_type": "markdown",
   "metadata": {},
   "source": [
    "### Get the due date"
   ]
  },
  {
   "cell_type": "code",
   "execution_count": 46,
   "metadata": {},
   "outputs": [
    {
     "data": {
      "text/plain": [
       "'채용시까지'"
      ]
     },
     "execution_count": 46,
     "metadata": {},
     "output_type": "execute_result"
    }
   ],
   "source": [
    "tds[5].text"
   ]
  },
  {
   "cell_type": "markdown",
   "metadata": {},
   "source": [
    "## Get the whole information from the first page and make it a list\n",
    "remove ads, positions in Korea"
   ]
  },
  {
   "cell_type": "code",
   "execution_count": 70,
   "metadata": {},
   "outputs": [
    {
     "name": "stdout",
     "output_type": "stream",
     "text": [
      "2018.12.31 해외 본사 근무 의류 디자이너 중간관리자 https://www.peoplenjob.com/jobs/3624493?type=overseas 의류 써치스퀘어 호주 2019.01.30\n",
      "2018.12.31 [국내중견기업] 마케팅 홍보 (일본거주) 중간관리자 https://www.peoplenjob.com/jobs/3624479?type=overseas 마케팅,시장조사 TRSS 일본 채용시까지\n",
      "2018.12.31 글로벌 패션 브랜드 중국 북경 근무 우븐 디자이너 경력 5년 이상 https://www.peoplenjob.com/jobs/3624256?type=overseas 디자인 맨파워그룹코리아 중국 북경 2019.01.30\n",
      "2018.12.31 ★ 대기업 Top IT - 중국법인 Global Delivery Center 센터장 (팀장급) ★ https://www.peoplenjob.com/jobs/3624231?type=overseas 일반사무직 (주)맨파워코리아 중국 2019.01.30\n",
      "2018.12.30 [해외/대기업] 리테일 팀장 / Sr. Retail Manager (중남미, 경력 12년 이상) https://www.peoplenjob.com/jobs/3624024?type=overseas 기획직 / 마케팅,시장조사 / 주식회사 트러스트브릿지 브라질 2019.01.04\n",
      "2018.12.30 경영관리 대리/과장급 -유명대기업(베트남 근무) https://www.peoplenjob.com/jobs/3623992?type=overseas 경리,회계,세무,재무,총무 (주)스카우트 베트남 채용시까지\n",
      "2018.12.30 대기업 사우디법인 SCM Coordinator 사원말대리급 https://www.peoplenjob.com/jobs/3623951?type=overseas 무역,수출입 / 해외영업 / HR 컨설팅(주) 해외 중동 사우디 채용시까지\n",
      "2018.12.30 대기업 요르단법인 리테일 마케팅 영업 차장부장초 https://www.peoplenjob.com/jobs/3623950?type=overseas 마케팅,시장조사 / / HR 컨설팅(주) 해외 중동 요르단 채용시까지\n",
      "2018.12.30 대기업 폴란드법인 냉장고 압출 성형 전문 인력 대리차장급 https://www.peoplenjob.com/jobs/3623949?type=overseas 기계,금속 / 제조,생산 / HR 컨설팅(주) 해외 유럽 폴란드 채용시까지\n",
      "2018.12.30 대기업 이란테헤란법인 SCM Coordinator 사원대리초 https://www.peoplenjob.com/jobs/3623948?type=overseas 무역,수출입 HR 컨설팅(주) 해외 이란 테헤란 채용시까지\n",
      "2018.12.30 대기업 두바이법인 물류 운영 대리과장급 중간관리자 https://www.peoplenjob.com/jobs/3623947?type=overseas 무역,수출입 / 물류.운송.배송 HR 컨설팅(주) 해외 UAE 두바이 채용시까지\n",
      "2018.12.30 대기업 터키법인 물류 SCM 대리과장급 중간관리자 https://www.peoplenjob.com/jobs/3623946?type=overseas 무역,수출입 HR 컨설팅(주) 해외 유럽 터키 채용시까지\n",
      "2018.12.30 중국 패션 온라인/마케팅 - 국내 의류제조 대기업 https://www.peoplenjob.com/jobs/3623923?type=overseas 마케팅,시장조사 잡스테이션코리아 중국 2019.01.11\n",
      "2018.12.30 화장품 상품기획 총괄 팀장급 (미국근무-차장급-이사급)-글로벌 외국계 https://www.peoplenjob.com/jobs/3623892?type=overseas 마케팅,시장조사 (주)피플케어 프로페셔널 미국 뉴욕 채용시까지\n",
      "2018.12.30 ★ 대기업 Top IT - 중국법인 Global Delivery Center 센터장 (팀장급) ★ https://www.peoplenjob.com/jobs/3623885?type=overseas 일반사무직 (주)맨파워코리아 중국 2019.01.29\n",
      "2018.12.29 화장품 상품기획 총괄 팀장급 (미국근무-차장급-이사급)-글로벌 외국계 https://www.peoplenjob.com/jobs/3623597?type=overseas 마케팅,시장조사 (주)피플케어 프로페셔널 미국 뉴욕 2019.01.28\n",
      "2018.12.28 [자동차부품] 폴란드 법인장 관리자 https://www.peoplenjob.com/jobs/3623436?type=overseas 기타 에이스파트너스 폴란드 2019.01.27\n",
      "2018.12.28 독일지사장 관리자 https://www.peoplenjob.com/jobs/3623434?type=overseas 기타 에이스파트너스 독일 채용시까지\n",
      "2018.12.28 두바이 물류 매니저 (유명대기업) 중간관리자 https://www.peoplenjob.com/jobs/3623322?type=overseas 물류.운송.배송 (주)스카우트 두바이 2019.01.27\n",
      "2018.12.28 유명대기업인도 IT솔루션 대외사업 리더 중간관리자 https://www.peoplenjob.com/jobs/3623314?type=overseas 해외영업 (주)스카우트 인도 ( 인디아 ) 채용시까지\n",
      "2018.12.28 파나마 물류 창고운영 (유명대기업) 중간관리자 https://www.peoplenjob.com/jobs/3623313?type=overseas 물류.운송.배송 (주)스카우트 파나마 채용시까지\n",
      "2018.12.28 Global consumer Digital Marketing in Hong Kong https://www.peoplenjob.com/jobs/3623076?type=overseas 마케팅,시장조사 그레이프 파트너즈 홍콩 채용시까지\n",
      "2018.12.28 [대기업] 파나마 물류(창고)운영 경력채용 중간관리자 https://www.peoplenjob.com/jobs/3622920?type=overseas 물류.운송.배송 KY컨설팅그룹 파나마/콜론 채용시까지\n",
      "2018.12.28 경영관리 대리/과장급 -유명대기업(베트남 근무) https://www.peoplenjob.com/jobs/3622829?type=overseas 경리,회계,세무,재무,총무 (주)스카우트 베트남 2019.01.02\n"
     ]
    }
   ],
   "source": [
    "for item in job_list:\n",
    "    if item.get_attribute(\"class\") == \"info\":\n",
    "        continue\n",
    "    #get the date uploaded\n",
    "    date = item.find_element_by_class_name(\"date\").text\n",
    "    \n",
    "    #get the job position and link\n",
    "    position_link = item.find_element_by_class_name(\"job-title\")\n",
    "    position = position_link.text\n",
    "    link = position_link.find_element_by_tag_name(\"a\").get_attribute(\"href\")\n",
    "\n",
    "    #get job type\n",
    "    job_type = item.find_element_by_class_name(\"job_type\").text\n",
    "\n",
    "    #get company name\n",
    "    name = item.find_element_by_class_name(\"name\").text\n",
    "\n",
    "    #get the working location\n",
    "    tds = item.find_elements_by_tag_name(\"td\")\n",
    "    location = tds[4].find_element_by_tag_name(\"a\").text\n",
    "    #skip item if its working location is in Korea\n",
    "    korea = [\"Se\", \"서울\", \"경기\", \"경북\"]\n",
    "    loc = location[:2]\n",
    "    if loc in korea:\n",
    "        continue\n",
    "    \n",
    "    #get the due date\n",
    "    due = tds[5].text\n",
    "    \n",
    "    print(date, position, link, job_type, name, location, due) #for check    "
   ]
  },
  {
   "cell_type": "code",
   "execution_count": 82,
   "metadata": {},
   "outputs": [
    {
     "name": "stdout",
     "output_type": "stream",
     "text": [
      "2018.12.30 대기업 사우디법인 SCM Coordinator 사원말대리급 https://www.peoplenjob.com/jobs/3623951?type=overseas 무역,수출입 / 해외영업 / HR 컨설팅(주) 해외 중동 사우디 채용시까지\n",
      "2018.12.30 대기업 이란테헤란법인 SCM Coordinator 사원대리초 https://www.peoplenjob.com/jobs/3623948?type=overseas 무역,수출입 HR 컨설팅(주) 해외 이란 테헤란 채용시까지\n",
      "2018.12.30 대기업 두바이법인 물류 운영 대리과장급 중간관리자 https://www.peoplenjob.com/jobs/3623947?type=overseas 무역,수출입 / 물류.운송.배송 HR 컨설팅(주) 해외 UAE 두바이 채용시까지\n",
      "2018.12.30 대기업 터키법인 물류 SCM 대리과장급 중간관리자 https://www.peoplenjob.com/jobs/3623946?type=overseas 무역,수출입 HR 컨설팅(주) 해외 유럽 터키 채용시까지\n"
     ]
    }
   ],
   "source": [
    "for item in job_list:\n",
    "    if item.get_attribute(\"class\") == \"info\":\n",
    "        continue\n",
    "    #get the date uploaded\n",
    "    date = item.find_element_by_class_name(\"date\").text\n",
    "    \n",
    "    #get the job position and link\n",
    "    position_link = item.find_element_by_class_name(\"job-title\")\n",
    "    position = position_link.text\n",
    "    link = position_link.find_element_by_tag_name(\"a\").get_attribute(\"href\")\n",
    "\n",
    "    #get job type\n",
    "    job_type = item.find_element_by_class_name(\"job_type\").text\n",
    "\n",
    "    #get company name\n",
    "    name = item.find_element_by_class_name(\"name\").text\n",
    "\n",
    "    #get the working location\n",
    "    tds = item.find_elements_by_tag_name(\"td\")\n",
    "    location = tds[4].find_element_by_tag_name(\"a\").text\n",
    "    #skip item if its working location is in Korea\n",
    "    korea = [\"Se\", \"서울\", \"경기\", \"경북\"]\n",
    "    loc = location[:2]\n",
    "    if loc in korea:\n",
    "        continue\n",
    "    \n",
    "    #get the due date\n",
    "    due = tds[5].text\n",
    "    \n",
    "    #print(date, position, link, job_type, name, location, due) #for check  \n",
    "    \n",
    "    if \"무역\" not in job_type:\n",
    "        continue\n",
    "    print(date, position, link, job_type, name, location, due)"
   ]
  },
  {
   "cell_type": "markdown",
   "metadata": {},
   "source": [
    "### make a function"
   ]
  },
  {
   "cell_type": "code",
   "execution_count": 89,
   "metadata": {},
   "outputs": [],
   "source": [
    "def get_job_ads(user_input: str):\n",
    "    result = []\n",
    "\n",
    "    for item in job_list:\n",
    "        if item.get_attribute(\"class\") == \"info\":\n",
    "            continue\n",
    "        #get the date uploaded\n",
    "        date = item.find_element_by_class_name(\"date\").text\n",
    "\n",
    "        #get the job position and link\n",
    "        position_link = item.find_element_by_class_name(\"job-title\")\n",
    "        position = position_link.text\n",
    "        link = position_link.find_element_by_tag_name(\"a\").get_attribute(\"href\")\n",
    "\n",
    "        #get job type\n",
    "        job_type = item.find_element_by_class_name(\"job_type\").text\n",
    "\n",
    "        #get company name\n",
    "        name = item.find_element_by_class_name(\"name\").text\n",
    "\n",
    "        #get the working location\n",
    "        tds = item.find_elements_by_tag_name(\"td\")\n",
    "        location = tds[4].find_element_by_tag_name(\"a\").text\n",
    "        #skip item if its working location is in Korea\n",
    "        korea = [\"Se\", \"서울\", \"경기\", \"경북\"]\n",
    "        loc = location[:2]\n",
    "        if loc in korea:\n",
    "            continue\n",
    "\n",
    "        #get the due date\n",
    "        due = tds[5].text\n",
    "\n",
    "        #get the job ads with the input job-type\n",
    "        if user_input not in job_type:\n",
    "               continue\n",
    "        \n",
    "        job = [date, position, job_type, name, location, due, link]\n",
    "        result.append(job)\n",
    "        \n",
    "    return result\n",
    "            "
   ]
  },
  {
   "cell_type": "code",
   "execution_count": 90,
   "metadata": {},
   "outputs": [
    {
     "data": {
      "text/plain": [
       "[['2018.12.30',\n",
       "  '대기업 사우디법인 SCM Coordinator 사원말대리급',\n",
       "  '무역,수출입 / 해외영업 /',\n",
       "  'HR 컨설팅(주)',\n",
       "  '해외 중동 사우디',\n",
       "  '채용시까지',\n",
       "  'https://www.peoplenjob.com/jobs/3623951?type=overseas'],\n",
       " ['2018.12.30',\n",
       "  '대기업 이란테헤란법인 SCM Coordinator 사원대리초',\n",
       "  '무역,수출입',\n",
       "  'HR 컨설팅(주)',\n",
       "  '해외 이란 테헤란',\n",
       "  '채용시까지',\n",
       "  'https://www.peoplenjob.com/jobs/3623948?type=overseas'],\n",
       " ['2018.12.30',\n",
       "  '대기업 두바이법인 물류 운영 대리과장급 중간관리자',\n",
       "  '무역,수출입 / 물류.운송.배송',\n",
       "  'HR 컨설팅(주)',\n",
       "  '해외 UAE 두바이',\n",
       "  '채용시까지',\n",
       "  'https://www.peoplenjob.com/jobs/3623947?type=overseas'],\n",
       " ['2018.12.30',\n",
       "  '대기업 터키법인 물류 SCM 대리과장급 중간관리자',\n",
       "  '무역,수출입',\n",
       "  'HR 컨설팅(주)',\n",
       "  '해외 유럽 터키',\n",
       "  '채용시까지',\n",
       "  'https://www.peoplenjob.com/jobs/3623946?type=overseas']]"
      ]
     },
     "execution_count": 90,
     "metadata": {},
     "output_type": "execute_result"
    }
   ],
   "source": [
    "get_job_ads(\"무역\")"
   ]
  },
  {
   "cell_type": "markdown",
   "metadata": {},
   "source": [
    "### location 검색도 추가"
   ]
  },
  {
   "cell_type": "code",
   "execution_count": 9,
   "metadata": {},
   "outputs": [],
   "source": [
    "def get_job_ads(user_input: str):\n",
    "    result = []\n",
    "\n",
    "    for item in job_list:\n",
    "        if item.get_attribute(\"class\") == \"info\":\n",
    "            continue\n",
    "        #get the date uploaded\n",
    "        date = item.find_element_by_class_name(\"date\").text\n",
    "\n",
    "        #get the job position and link\n",
    "        position_link = item.find_element_by_class_name(\"job-title\")\n",
    "        position = position_link.text\n",
    "        link = position_link.find_element_by_tag_name(\"a\").get_attribute(\"href\")\n",
    "\n",
    "        #get job type\n",
    "        job_type = item.find_element_by_class_name(\"job_type\").text\n",
    "\n",
    "        #get company name\n",
    "        name = item.find_element_by_class_name(\"name\").text\n",
    "\n",
    "        #get the working location\n",
    "        tds = item.find_elements_by_tag_name(\"td\")\n",
    "        location = tds[4].find_element_by_tag_name(\"a\").text\n",
    "        #skip item if its working location is in Korea\n",
    "        korea = [\"Se\", \"서울\", \"경기\", \"경북\"]\n",
    "        loc = location[:2]\n",
    "        if loc in korea:\n",
    "            continue\n",
    "\n",
    "        #get the due date\n",
    "        due = tds[5].text\n",
    "\n",
    "        #get the job ads with the input job-type\n",
    "        if user_input not in job_type and user_input not in location:\n",
    "               continue\n",
    "        \n",
    "        job = [date, position, job_type, name, location, due, link]\n",
    "        result.append(job)\n",
    "        \n",
    "    return result"
   ]
  },
  {
   "cell_type": "code",
   "execution_count": 92,
   "metadata": {},
   "outputs": [
    {
     "data": {
      "text/plain": [
       "[['2018.12.30',\n",
       "  '대기업 사우디법인 SCM Coordinator 사원말대리급',\n",
       "  '무역,수출입 / 해외영업 /',\n",
       "  'HR 컨설팅(주)',\n",
       "  '해외 중동 사우디',\n",
       "  '채용시까지',\n",
       "  'https://www.peoplenjob.com/jobs/3623951?type=overseas'],\n",
       " ['2018.12.30',\n",
       "  '대기업 이란테헤란법인 SCM Coordinator 사원대리초',\n",
       "  '무역,수출입',\n",
       "  'HR 컨설팅(주)',\n",
       "  '해외 이란 테헤란',\n",
       "  '채용시까지',\n",
       "  'https://www.peoplenjob.com/jobs/3623948?type=overseas'],\n",
       " ['2018.12.30',\n",
       "  '대기업 두바이법인 물류 운영 대리과장급 중간관리자',\n",
       "  '무역,수출입 / 물류.운송.배송',\n",
       "  'HR 컨설팅(주)',\n",
       "  '해외 UAE 두바이',\n",
       "  '채용시까지',\n",
       "  'https://www.peoplenjob.com/jobs/3623947?type=overseas'],\n",
       " ['2018.12.30',\n",
       "  '대기업 터키법인 물류 SCM 대리과장급 중간관리자',\n",
       "  '무역,수출입',\n",
       "  'HR 컨설팅(주)',\n",
       "  '해외 유럽 터키',\n",
       "  '채용시까지',\n",
       "  'https://www.peoplenjob.com/jobs/3623946?type=overseas']]"
      ]
     },
     "execution_count": 92,
     "metadata": {},
     "output_type": "execute_result"
    }
   ],
   "source": [
    "get_job_ads(\"무역\")"
   ]
  },
  {
   "cell_type": "code",
   "execution_count": 96,
   "metadata": {},
   "outputs": [
    {
     "data": {
      "text/plain": [
       "[['2018.12.31',\n",
       "  '해외 본사 근무 의류 디자이너 중간관리자',\n",
       "  '의류',\n",
       "  '써치스퀘어',\n",
       "  '호주',\n",
       "  '2019.01.30',\n",
       "  'https://www.peoplenjob.com/jobs/3624493?type=overseas']]"
      ]
     },
     "execution_count": 96,
     "metadata": {},
     "output_type": "execute_result"
    }
   ],
   "source": [
    "get_job_ads(\"호주\")"
   ]
  },
  {
   "cell_type": "markdown",
   "metadata": {},
   "source": [
    "## Through to page 3"
   ]
  },
  {
   "cell_type": "code",
   "execution_count": 11,
   "metadata": {},
   "outputs": [],
   "source": [
    "all_result = []\n",
    "user_input = input(\"검색어를 입력하세요: \")\n",
    "\n",
    "page_path = '//*[@id=\"content-main\"]/div/div[3]/ul/li['\n",
    "\n",
    "for i in range(2,5):\n",
    "    page = ch_driver.find_element_by_xpath(page_path + str(i) + ']/a')\n",
    "    page.click()\n",
    "    \n",
    "    sleep(1)\n",
    "    \n",
    "    job_list = ch_driver.find_elements_by_tag_name(\"tr\")\n",
    "    del job_list[0]\n",
    "    all_result.append(get_job_ads(user_input))\n",
    "    \n",
    "all_result"
   ]
  },
  {
   "cell_type": "code",
   "execution_count": null,
   "metadata": {},
   "outputs": [],
   "source": []
  }
 ],
 "metadata": {
  "kernelspec": {
   "display_name": "Python 3",
   "language": "python",
   "name": "python3"
  },
  "language_info": {
   "codemirror_mode": {
    "name": "ipython",
    "version": 3
   },
   "file_extension": ".py",
   "mimetype": "text/x-python",
   "name": "python",
   "nbconvert_exporter": "python",
   "pygments_lexer": "ipython3",
   "version": "3.7.1"
  }
 },
 "nbformat": 4,
 "nbformat_minor": 2
}
