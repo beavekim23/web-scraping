{
 "cells": [
  {
   "cell_type": "code",
   "execution_count": 54,
   "metadata": {},
   "outputs": [],
   "source": [
    "import requests #API로 하려고\n",
    "from selenium import webdriver\n",
    "from time import sleep\n",
    "ch_driver = webdriver.Chrome('C:/Users/beave/AppData/Roaming/Microsoft/Windows/Start Menu/Programs/Python 3.7/chromedriver.exe')"
   ]
  },
  {
   "cell_type": "code",
   "execution_count": 2,
   "metadata": {},
   "outputs": [
    {
     "data": {
      "text/plain": [
       "{'suggestions': [{'subtitle': None,\n",
       "   'ajax_data': 'null',\n",
       "   'query': 'Los Angeles, CA',\n",
       "   'name_param': 'find_loc',\n",
       "   'title': 'Los Angeles, CA',\n",
       "   'css_class': None,\n",
       "   'is_bookmarked': None,\n",
       "   'version': 1,\n",
       "   'redirect_url': None,\n",
       "   'refinements': None,\n",
       "   'num_checkins': None,\n",
       "   'type': 'location',\n",
       "   'thumbnail': None,\n",
       "   'is_typeahead': False}],\n",
       " 'unique_request_id': '6c8797fa2ecb3c4d_0'}"
      ]
     },
     "execution_count": 2,
     "metadata": {},
     "output_type": "execute_result"
    }
   ],
   "source": [
    "loc_url = 'https://www.yelp.com/location_suggest/v2?prefix=Los%20Angeles%2C%20CA'\n",
    "requests.get(loc_url).json()"
   ]
  },
  {
   "cell_type": "code",
   "execution_count": 4,
   "metadata": {},
   "outputs": [],
   "source": [
    "#일단은 엘에이부터 조사하고 엘에이가 되면 크롤링을 함수로 만들어서 도시 바꿔서 실행하는걸로"
   ]
  },
  {
   "cell_type": "code",
   "execution_count": 6,
   "metadata": {},
   "outputs": [],
   "source": [
    "ch_driver.get(\"https://www.yelp.com/search?find_desc=Restaurants&find_loc=Los%20Angeles%2C%20CA\")"
   ]
  },
  {
   "cell_type": "code",
   "execution_count": 33,
   "metadata": {},
   "outputs": [],
   "source": [
    "#식당 순위, 식당 이름 찾기\n",
    "some_url = '//*[@id=\"wrap\"]/div[3]/div[2]/div[2]/div/div[1]/div[1]/div/ul/li[4]/div/div/div/div/div[2]/div[1]/div/div[1]'\n",
    "rank_name = ch_driver.find_elements_by_xpath(some_url)"
   ]
  },
  {
   "cell_type": "code",
   "execution_count": 44,
   "metadata": {},
   "outputs": [
    {
     "data": {
      "text/plain": [
       "'1. Bestia\\n5340 reviews\\n$$$Italian, Cocktail Bars, Pizza'"
      ]
     },
     "execution_count": 44,
     "metadata": {},
     "output_type": "execute_result"
    }
   ],
   "source": [
    "rank_name[0].text"
   ]
  },
  {
   "cell_type": "code",
   "execution_count": 47,
   "metadata": {},
   "outputs": [],
   "source": [
    "items_path = '//*[@id=\"wrap\"]/div[3]/div[2]/div[2]/div/div[1]/div[1]/div/ul/li/div/div/div/div/div[2]/div[1]/div/div[1]'\n",
    "items = ch_driver.find_elements_by_xpath('//*[@id=\"wrap\"]/div[3]/div[2]/div[2]/div/div[1]/div[1]/div/ul/li/div/div/div/div/div[2]/div[1]/div[1]/div[1]/div[1]')"
   ]
  },
  {
   "cell_type": "code",
   "execution_count": 53,
   "metadata": {},
   "outputs": [
    {
     "name": "stdout",
     "output_type": "stream",
     "text": [
      "1. Bestia\n",
      "2. Running Goose\n",
      "3. The Morrison\n",
      "4. Howlin’ Ray’s\n",
      "5. RockSugar Southeast Asian Kitchen\n",
      "6. République\n",
      "7. Bao Dim Sum House\n",
      "8. Franco’s\n",
      "9. Genwa Korean BBQ\n",
      "10. Slurpin’ Ramen Bar\n",
      "11. Perch\n",
      "12. Kang Ho-dong Baekjeong\n",
      "13. Yup Dduk La\n",
      "14. A Food Affair\n",
      "15. Rascal\n",
      "16. Dirt Dog\n",
      "17. Marugame Monzo\n",
      "18. Pasta Sisters\n",
      "19. L’Assiette Steak Frites\n",
      "20. Osteria Mamma\n",
      "21. The Little Door\n",
      "22. Eataly\n",
      "23. Daikokuya Little Tokyo\n",
      "24. Hangari Bajirak Kalguksu\n",
      "25. The Parker Room\n",
      "26. Din Tai Fung\n",
      "27. Maccheroni Republic\n",
      "28. Wurstküche\n",
      "29. Dave’s Hot Chicken\n",
      "30. Han Bat Shul Lung Tang\n"
     ]
    }
   ],
   "source": [
    "some_list = []\n",
    "for i in range(3, 32+1):\n",
    "    print(items[i].find_element_by_tag_name('h3').text)\n",
    "    some_list.append(items)"
   ]
  },
  {
   "cell_type": "code",
   "execution_count": 52,
   "metadata": {},
   "outputs": [
    {
     "data": {
      "text/plain": [
       "'1. Bestia'"
      ]
     },
     "execution_count": 52,
     "metadata": {},
     "output_type": "execute_result"
    }
   ],
   "source": [
    "items[3].find_element_by_tag_name('h3').text"
   ]
  },
  {
   "cell_type": "markdown",
   "metadata": {},
   "source": [
    "## TripAdvisor"
   ]
  },
  {
   "cell_type": "code",
   "execution_count": 72,
   "metadata": {},
   "outputs": [],
   "source": [
    "ta_url = \"https://www.tripadvisor.co.kr/\"\n",
    "ch_driver.get(ta_url)"
   ]
  },
  {
   "cell_type": "code",
   "execution_count": 73,
   "metadata": {},
   "outputs": [],
   "source": [
    "restaurant_path = '//*[@id=\"component_3\"]/div/div/span[3]/div/div/a'\n",
    "restaurant_button = ch_driver.find_element_by_xpath(restaurant_path)\n",
    "restaurant_button.click()"
   ]
  },
  {
   "cell_type": "code",
   "execution_count": 74,
   "metadata": {},
   "outputs": [],
   "source": [
    "des_path = '//*[@id=\"c_targeted_flyout_3\"]/div/div/div[1]/div[1]/div/input'\n",
    "des_input = ch_driver.find_element_by_xpath(des_path)\n",
    "des_input.send_keys(\"로스앤젤레스\")"
   ]
  },
  {
   "cell_type": "code",
   "execution_count": 75,
   "metadata": {},
   "outputs": [],
   "source": [
    "first_path = '//*[@id=\"c_targeted_flyout_3\"]/div/div/div[1]/div[2]/div'\n",
    "first_result = ch_driver.find_element_by_xpath(first_path)\n",
    "first_result.click()"
   ]
  },
  {
   "cell_type": "code",
   "execution_count": 76,
   "metadata": {},
   "outputs": [],
   "source": [
    "ch_driver.find_element_by_id('secondaryText').click()"
   ]
  },
  {
   "cell_type": "code",
   "execution_count": 132,
   "metadata": {},
   "outputs": [],
   "source": [
    "search_result = ch_driver.find_element_by_id('EATERY_SEARCH_RESULTS')"
   ]
  },
  {
   "cell_type": "code",
   "execution_count": 133,
   "metadata": {},
   "outputs": [],
   "source": [
    "name_link = search_result.find_elements_by_class_name('title')"
   ]
  },
  {
   "cell_type": "code",
   "execution_count": 134,
   "metadata": {},
   "outputs": [
    {
     "data": {
      "text/plain": [
       "31"
      ]
     },
     "execution_count": 134,
     "metadata": {},
     "output_type": "execute_result"
    }
   ],
   "source": [
    "len(name_link)"
   ]
  },
  {
   "cell_type": "code",
   "execution_count": 135,
   "metadata": {},
   "outputs": [
    {
     "data": {
      "text/plain": [
       "'https://www.tripadvisor.co.kr/Restaurant_Review-g32655-d3701882-Reviews-N_naka-Los_Angeles_California.html'"
      ]
     },
     "execution_count": 135,
     "metadata": {},
     "output_type": "execute_result"
    }
   ],
   "source": [
    "#get link\n",
    "name_link[1].find_element_by_tag_name('a').get_attribute('href')"
   ]
  },
  {
   "cell_type": "code",
   "execution_count": 136,
   "metadata": {},
   "outputs": [
    {
     "data": {
      "text/plain": [
       "'n/naka'"
      ]
     },
     "execution_count": 136,
     "metadata": {},
     "output_type": "execute_result"
    }
   ],
   "source": [
    "#get restaurant name\n",
    "name_link[1].find_element_by_tag_name('a').text"
   ]
  },
  {
   "cell_type": "code",
   "execution_count": 139,
   "metadata": {},
   "outputs": [],
   "source": [
    "ratings = search_results.find_elements_by_tag_name('rating.rebrand')"
   ]
  },
  {
   "cell_type": "code",
   "execution_count": 140,
   "metadata": {
    "scrolled": true
   },
   "outputs": [
    {
     "data": {
      "text/plain": [
       "0"
      ]
     },
     "execution_count": 140,
     "metadata": {},
     "output_type": "execute_result"
    }
   ],
   "source": [
    "len(ratings)"
   ]
  },
  {
   "cell_type": "code",
   "execution_count": null,
   "metadata": {},
   "outputs": [],
   "source": []
  },
  {
   "cell_type": "code",
   "execution_count": null,
   "metadata": {},
   "outputs": [],
   "source": []
  },
  {
   "cell_type": "code",
   "execution_count": null,
   "metadata": {},
   "outputs": [],
   "source": []
  },
  {
   "cell_type": "code",
   "execution_count": null,
   "metadata": {},
   "outputs": [],
   "source": []
  },
  {
   "cell_type": "code",
   "execution_count": 121,
   "metadata": {},
   "outputs": [
    {
     "name": "stdout",
     "output_type": "stream",
     "text": [
      "\n",
      "\n",
      "\n",
      "\n",
      "\n",
      "\n",
      "\n",
      "\n",
      "\n",
      "\n",
      "\n",
      "음식점\n",
      "간단한 음식\n",
      "디저트\n",
      "더 보기\n",
      "\n",
      "\n",
      "\n",
      "\n",
      "\n",
      "\n",
      "\n",
      "\n",
      "\n",
      "정렬순서:\n",
      "순위\n",
      "알파벳순\n",
      "여행을 떠나고 싶으신가요? 로스앤젤레스 외부의 훌륭한 검색 결과를 찾았습니다.\n",
      "검색의 폭을 넓히세요.\n",
      "스폰서\n",
      "Santuari Restaurant\n",
      "리뷰 1건\n",
      "₩₩ - ₩₩₩ 미국 요리 유럽 요리\n",
      "“분위기를 사랑해. 식당은 말하기에 충분히 쾌적하고 조용합니다.”\n",
      "예약하세요\n",
      "n/naka\n",
      "132건의 리뷰\n",
      "1위 (로스앤젤레스 소재 9,811곳 음식점 중)\n",
      "₩₩₩₩ 일본 요리 스시 아시아 요리\n",
      "“완벽한 식사 경험!” 2018/09/04\n",
      "“고요한 경험” 2018/08/28\n",
      "프로비던스\n",
      "714건의 리뷰\n",
      "2위 (로스앤젤레스 소재 9,811곳 음식점 중)\n",
      "₩₩₩₩ 시푸드 채식주의 식단 채식 옵션\n",
      "“최고급 음식” 2015/09/12\n",
      "“로스 앤젤레스 최고의 레스토랑 (지금까지) ...” 2018/11/18\n",
      "브렌츠 델리\n",
      "1,366건의 리뷰\n",
      "3위 (로스앤젤레스 소재 9,811곳 음식점 중)\n",
      "₩₩ - ₩₩₩ 미국 요리 다이너 델리\n",
      "“맙소사” 2013/06/06\n",
      "“맛있는 음식” 2018/07/21\n",
      "온라인으로 주문하기\n",
      "안젤리니 오스테리아\n",
      "426건의 리뷰\n",
      "4위 (로스앤젤레스 소재 9,811곳 음식점 중)\n",
      "₩₩ - ₩₩₩ 이탈리아 요리 채식주의 식단\n",
      "“하나가 아닌 경우, La 최고의 이탈리아” 2018/07/09\n",
      "“Norma 시내에 다시...” 2018/07/07\n",
      "예약하세요\n",
      "Raffaello Ristorante\n",
      "222건의 리뷰\n",
      "5위 (로스앤젤레스 소재 9,811곳 음식점 중)\n",
      "₩₩ - ₩₩₩ 이탈리아 요리 채식주의 식단\n",
      "“Great italian food !” 2016/09/27\n",
      "“여기 몇 번이나왔다.” 2018/12/02\n",
      "온라인으로 주문하기\n",
      "칼리토스 가델\n",
      "205건의 리뷰\n",
      "6위 (로스앤젤레스 소재 9,811곳 음식점 중)\n",
      "₩₩₩₩ 스테이크하우스 아르헨티나\n",
      "“여기서 당신은 내 인생되었습니다???” 2018/09/02\n",
      "“잊지 못할 경험” 2018/08/12\n",
      "예약하세요\n",
      "Maccheroni Republic\n",
      "254건의 리뷰\n",
      "7위 (로스앤젤레스 소재 9,811곳 음식점 중)\n",
      "₩₩ - ₩₩₩ 이탈리아 요리 지중해 요리\n",
      "“맛있는데 아주 맛있지는않네요” 2018/03/05\n",
      "“굳” 2017/10/13\n",
      "온라인으로 주문하기\n",
      "Tatsu Ramen\n",
      "129건의 리뷰\n",
      "8위 (로스앤젤레스 소재 9,811곳 음식점 중)\n",
      "₩₩ - ₩₩₩ 일본 요리 아시아 요리\n",
      "“정말 맛있었습니다. 라멘맛집!” 2018/10/03\n",
      "“맛있는라면. 인기있는 장소.” 2018/09/05\n",
      "온라인으로 주문하기\n",
      "Tocaya Organica - Venice\n",
      "224건의 리뷰\n",
      "1위 (로스앤젤레스 소재 147곳 간단한 음식 중)\n",
      "₩ 멕시코 요리 라틴 채식주의 식단\n",
      "“베니스비치 근처 타코 맛집” 2018/10/07\n",
      "“보통 이상!” 2018/10/03\n",
      "온라인으로 주문하기\n",
      "Toast Bakery Cafe\n",
      "326건의 리뷰\n",
      "9위 (로스앤젤레스 소재 9,811곳 음식점 중)\n",
      "₩₩ - ₩₩₩ 미국 요리 카페 채식주의 식단\n",
      "“맛있어여” 2018/10/07\n",
      "“먹어본 중 최고의 프렌치 토스트!” 2013/05/21\n",
      "Sushi Gen\n",
      "427건의 리뷰\n",
      "10위 (로스앤젤레스 소재 9,811곳 음식점 중)\n",
      "₩₩ - ₩₩₩ 일본 요리 스시 아시아 요리\n",
      "“와우! 굿!” 2018/10/02\n",
      "“good dish” 2018/06/19\n",
      "Gjusta\n",
      "250건의 리뷰\n",
      "2위 (로스앤젤레스 소재 147곳 간단한 음식 중)\n",
      "₩₩ - ₩₩₩ 미국 요리 카페 채식주의 식단\n",
      "“맛있는 브런치와 베이커리가 가득한 곳” 2017/11/20\n",
      "“LA 베니스 브런치 하기 좋은 곳” 2015/08/09\n",
      "Vivian's Millenium Cafe\n",
      "158건의 리뷰\n",
      "11위 (로스앤젤레스 소재 9,811곳 음식점 중)\n",
      "₩₩ - ₩₩₩ 미국 요리 카페 채식주의 식단\n",
      "“훌륭한 아침 식사” 2018/11/17\n",
      "“그것을 본 후 아내의 선택은 모든 상대적인 것입니다.”\n",
      "Magic Castle\n",
      "377건의 리뷰\n",
      "12위 (로스앤젤레스 소재 9,811곳 음식점 중)\n",
      "₩₩₩₩ 미국 요리 채식주의 식단\n",
      "“놀랄 만한” 2018/12/08\n",
      "“굉장한” 2018/10/15\n",
      "The Griddle Cafe\n",
      "1,477건의 리뷰\n",
      "13위 (로스앤젤레스 소재 9,811곳 음식점 중)\n",
      "₩₩ - ₩₩₩ 미국 요리 카페 채식주의 식단\n",
      "“아침 일찍 LA도착시 아침식사로 좋습니다.” 2017/12/13\n",
      "“여기 대박입니다.” 2016/06/12\n",
      "Cafe Gratitude\n",
      "381건의 리뷰\n",
      "14위 (로스앤젤레스 소재 9,811곳 음식점 중)\n",
      "₩₩ - ₩₩₩ 미국 요리 카페 채식주의 식단\n",
      "“보통 이상!” 2018/10/03\n",
      "“히피 영혼의 음식?” 2018/11/25\n",
      "Langer's\n",
      "779건의 리뷰\n",
      "15위 (로스앤젤레스 소재 9,811곳 음식점 중)\n",
      "₩₩ - ₩₩₩ 미국 요리 다이너 델리\n",
      "“엘에이, 한인타운과 다운타운 사이의 또하나의 오래됀 보석같은...”\n",
      "“트립어드바이저 후기를 믿고 들러 실망하지 않았던 곳”\n",
      "온라인으로 주문하기\n",
      "Guisados\n",
      "127건의 리뷰\n",
      "3위 (로스앤젤레스 소재 147곳 간단한 음식 중)\n",
      "₩ 멕시코 요리 라틴 패스트푸드\n",
      "“점심먹으러 감” 2018/01/21\n",
      "“이 작은 타코 장소처럼” 2018/11/27\n",
      "Redbird\n",
      "218건의 리뷰\n",
      "16위 (로스앤젤레스 소재 9,811곳 음식점 중)\n",
      "₩₩₩₩ 미국 요리 채식주의 식단\n",
      "“좋은 저녁” 2018/11/01\n",
      "“총 완전” 2018/11/01\n",
      "예약하세요\n",
      "The Original Philippe\n",
      "2,039건의 리뷰\n",
      "4위 (로스앤젤레스 소재 147곳 간단한 음식 중)\n",
      "₩ 미국 요리 수프 델리\n",
      "“맛은 있는데...” 2017/11/30\n",
      "“저는 진짜 넘나 짜서 버렸어요.” 2017/11/28\n",
      "Pampas Grill\n",
      "267건의 리뷰\n",
      "17위 (로스앤젤레스 소재 9,811곳 음식점 중)\n",
      "₩ 브라질 요리 바베큐 남미 요리\n",
      "“괜찮았습니다!” 2018/10/03\n",
      "“그냥 그랬어요” 2018/07/11\n",
      "트래블러즈 초이스 어워드™ 2018 수상\n",
      "The Bazaar by José Andrés\n",
      "1,036건의 리뷰\n",
      "18위 (로스앤젤레스 소재 9,811곳 음식점 중)\n",
      "₩₩₩₩ 스페인 요리 채식주의 식단\n",
      "“LA최고의 레스토랑, 다양한 메뉴와 친구와 즐거운 모임을 할...”\n",
      "“멋진 경험!” 2018/12/16\n",
      "예약하세요\n",
      "Lemonade\n",
      "382건의 리뷰\n",
      "19위 (로스앤젤레스 소재 9,811곳 음식점 중)\n",
      "₩₩ - ₩₩₩ 미국 요리 채식주의 식단\n",
      "“에보키니 로드 초입의 맛있는 샐러드 바” 2016/11/04\n",
      "“샐러드가 유명한 곳” 2015/12/30\n",
      "온라인으로 주문하기\n",
      "Genwa\n",
      "172건의 리뷰\n",
      "20위 (로스앤젤레스 소재 9,811곳 음식점 중)\n",
      "₩₩ - ₩₩₩ 바베큐 아시아 요리\n",
      "“외국인 친구와 함께 가는 한국 식당” 2015/08/11\n",
      "“푸짐하고 저렴한 한식” 2013/08/19\n",
      "Veggie Grill\n",
      "191건의 리뷰\n",
      "21위 (로스앤젤레스 소재 9,811곳 음식점 중)\n",
      "₩ 미국 요리 패스트푸드 채식주의 식단\n",
      "“채식 음식에 대한 즐거운 놀라움” 2018/10/03\n",
      "“정말 좋았습니다.” 2018/05/31\n",
      "온라인으로 주문하기\n",
      "Cafe Gratitude\n",
      "244건의 리뷰\n",
      "22위 (로스앤젤레스 소재 9,811곳 음식점 중)\n",
      "₩₩ - ₩₩₩ 카페 채식주의 식단\n",
      "“정말 맛있음” 2015/01/21\n",
      "“VEGAN 음식에 감사드립니다!” 2018/12/11\n",
      "예약하세요\n",
      "Wurstkuche\n",
      "520건의 리뷰\n",
      "5위 (로스앤젤레스 소재 147곳 간단한 음식 중)\n",
      "₩₩ - ₩₩₩ 미국 요리 독일 요리\n",
      "“새로운 핫도그바” 2018/03/05\n",
      "“미국식 핫도그의 새로운 발견” 2017/08/05\n",
      "온라인으로 주문하기\n",
      "Aroma Cafe\n",
      "267건의 리뷰\n",
      "23위 (로스앤젤레스 소재 9,811곳 음식점 중)\n",
      "₩₩ - ₩₩₩ 미국 요리 카페 채식주의 식단\n",
      "“밸리에서 가장 훌륭한 커피 차 전문점” 2013/05/28\n",
      "“사랑스러운 곳이야.” 2018/12/07\n",
      "Madeo\n",
      "317건의 리뷰\n",
      "24위 (로스앤젤레스 소재 9,811곳 음식점 중)\n",
      "₩₩₩₩ 이탈리아 요리 채식주의 식단\n",
      "“LA의 이태리 레스토랑” 2013/05/28\n",
      "“새로운 임시 위치, 똑같은 경험” 2018/10/16\n",
      "Nickel Diner\n",
      "268건의 리뷰\n",
      "25위 (로스앤젤레스 소재 9,811곳 음식점 중)\n",
      "₩₩ - ₩₩₩ 미국 요리 다이너 채식주의 식단\n",
      "“제 여행의 하이라이트” 2018/07/15\n",
      "“맛있어요!!!!” 2018/07/07\n",
      "이전\n",
      "다음\n",
      "1\n",
      "2\n",
      "3\n",
      "4\n",
      "5\n",
      "6\n",
      "…\n",
      "330\n",
      "리뷰 1건\n",
      "132건의 리뷰\n",
      "714건의 리뷰\n",
      "1,366건의 리뷰\n",
      "426건의 리뷰\n",
      "222건의 리뷰\n",
      "205건의 리뷰\n",
      "254건의 리뷰\n",
      "129건의 리뷰\n",
      "224건의 리뷰\n",
      "326건의 리뷰\n",
      "427건의 리뷰\n",
      "250건의 리뷰\n",
      "158건의 리뷰\n",
      "377건의 리뷰\n",
      "1,477건의 리뷰\n",
      "381건의 리뷰\n",
      "779건의 리뷰\n",
      "127건의 리뷰\n",
      "218건의 리뷰\n",
      "2,039건의 리뷰\n",
      "267건의 리뷰\n",
      "1,036건의 리뷰\n",
      "382건의 리뷰\n",
      "172건의 리뷰\n",
      "191건의 리뷰\n",
      "244건의 리뷰\n",
      "520건의 리뷰\n",
      "267건의 리뷰\n",
      "317건의 리뷰\n",
      "268건의 리뷰\n"
     ]
    }
   ],
   "source": [
    "for i in ratings:\n",
    "    print(i.text)"
   ]
  },
  {
   "cell_type": "code",
   "execution_count": null,
   "metadata": {},
   "outputs": [],
   "source": [
    "//*[@id=\"eatery_594024\"]/div[2]/div[1]/div[2]/span[1]"
   ]
  }
 ],
 "metadata": {
  "kernelspec": {
   "display_name": "Python 3",
   "language": "python",
   "name": "python3"
  },
  "language_info": {
   "codemirror_mode": {
    "name": "ipython",
    "version": 3
   },
   "file_extension": ".py",
   "mimetype": "text/x-python",
   "name": "python",
   "nbconvert_exporter": "python",
   "pygments_lexer": "ipython3",
   "version": "3.7.1"
  }
 },
 "nbformat": 4,
 "nbformat_minor": 2
}
