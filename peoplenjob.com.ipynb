{
 "cells": [
  {
   "cell_type": "markdown",
   "metadata": {},
   "source": [
    "# Search jobs abroad\n",
    "## Scrape jobs abroad from peoplenjob.com"
   ]
  },
  {
   "cell_type": "code",
   "execution_count": 1,
   "metadata": {},
   "outputs": [],
   "source": [
    "from selenium import webdriver\n",
    "from time import sleep\n",
    "ch_driver = webdriver.Chrome('C:/Users/beave/AppData/Roaming/Microsoft/Windows/Start Menu/Programs/Python 3.7/chromedriver.exe')"
   ]
  },
  {
   "cell_type": "code",
   "execution_count": 2,
   "metadata": {},
   "outputs": [],
   "source": [
    "ch_driver.implicitly_wait(5) \n",
    "\n",
    "url = 'https://www.peoplenjob.com/'\n",
    "ch_driver.get(url)"
   ]
  },
  {
   "cell_type": "code",
   "execution_count": 3,
   "metadata": {},
   "outputs": [],
   "source": [
    "job_page = ch_driver.find_element_by_link_text(\"채용공고\")\n",
    "job_page.click()\n",
    "sleep(1)"
   ]
  },
  {
   "cell_type": "code",
   "execution_count": 4,
   "metadata": {},
   "outputs": [],
   "source": [
    "job_abroad = ch_driver.find_element_by_link_text(\"해외근무\")\n",
    "job_abroad.click()\n",
    "sleep(1)"
   ]
  },
  {
   "cell_type": "code",
   "execution_count": null,
   "metadata": {},
   "outputs": [],
   "source": []
  },
  {
   "cell_type": "code",
   "execution_count": 9,
   "metadata": {},
   "outputs": [
    {
     "data": {
      "text/plain": [
       "40"
      ]
     },
     "execution_count": 9,
     "metadata": {},
     "output_type": "execute_result"
    }
   ],
   "source": [
    "job_list = ch_driver.find_elements_by_tag_name(\"tr\")\n",
    "del job_list[0]\n",
    "#len(job_list)"
   ]
  },
  {
   "cell_type": "code",
   "execution_count": 10,
   "metadata": {},
   "outputs": [],
   "source": [
    "def get_job_ads(user_input: str):\n",
    "    result = []\n",
    "\n",
    "    for item in job_list:\n",
    "        if item.get_attribute(\"class\") == \"info\":\n",
    "            continue\n",
    "        #get the date uploaded\n",
    "        date = item.find_element_by_class_name(\"date\").text\n",
    "\n",
    "        #get the job position and link\n",
    "        position_link = item.find_element_by_class_name(\"job-title\")\n",
    "        position = position_link.text\n",
    "        link = position_link.find_element_by_tag_name(\"a\").get_attribute(\"href\")\n",
    "\n",
    "        #get job type\n",
    "        job_type = item.find_element_by_class_name(\"job_type\").text\n",
    "\n",
    "        #get company name\n",
    "        name = item.find_element_by_class_name(\"name\").text\n",
    "\n",
    "        #get the working location\n",
    "        tds = item.find_elements_by_tag_name(\"td\")\n",
    "        location = tds[4].find_element_by_tag_name(\"a\").text\n",
    "        #skip item if its working location is in Korea\n",
    "        korea = [\"Se\", \"서울\", \"경기\", \"경북\"]\n",
    "        loc = location[:2]\n",
    "        if loc in korea:\n",
    "            continue\n",
    "\n",
    "        #get the due date\n",
    "        due = tds[5].text\n",
    "\n",
    "        #get the job ads with the input job-type\n",
    "        if user_input not in job_type and user_input not in location:\n",
    "               continue\n",
    "        \n",
    "        job = [date, position, job_type, name, location, due, link]\n",
    "        result.append(job)\n",
    "        \n",
    "    return result"
   ]
  },
  {
   "cell_type": "code",
   "execution_count": 14,
   "metadata": {},
   "outputs": [
    {
     "name": "stdout",
     "output_type": "stream",
     "text": [
      "검색어를 입력하세요: 무역\n"
     ]
    },
    {
     "data": {
      "text/plain": [
       "[['2018.12.30',\n",
       "  '대기업 사우디법인 SCM Coordinator 사원말대리급',\n",
       "  '무역,수출입 / 해외영업 /',\n",
       "  'HR 컨설팅(주)',\n",
       "  '해외 중동 사우디',\n",
       "  '채용시까지',\n",
       "  'https://www.peoplenjob.com/jobs/3623951?page=1&type=overseas'],\n",
       " ['2018.12.30',\n",
       "  '대기업 이란테헤란법인 SCM Coordinator 사원대리초',\n",
       "  '무역,수출입',\n",
       "  'HR 컨설팅(주)',\n",
       "  '해외 이란 테헤란',\n",
       "  '채용시까지',\n",
       "  'https://www.peoplenjob.com/jobs/3623948?page=1&type=overseas'],\n",
       " ['2018.12.30',\n",
       "  '대기업 두바이법인 물류 운영 대리과장급 중간관리자',\n",
       "  '무역,수출입 / 물류.운송.배송',\n",
       "  'HR 컨설팅(주)',\n",
       "  '해외 UAE 두바이',\n",
       "  '채용시까지',\n",
       "  'https://www.peoplenjob.com/jobs/3623947?page=1&type=overseas'],\n",
       " ['2018.12.30',\n",
       "  '대기업 터키법인 물류 SCM 대리과장급 중간관리자',\n",
       "  '무역,수출입',\n",
       "  'HR 컨설팅(주)',\n",
       "  '해외 유럽 터키',\n",
       "  '채용시까지',\n",
       "  'https://www.peoplenjob.com/jobs/3623946?page=1&type=overseas']]"
      ]
     },
     "execution_count": 14,
     "metadata": {},
     "output_type": "execute_result"
    }
   ],
   "source": [
    "user_input = input(\"검색어를 입력하세요: \")\n",
    "get_job_ads(user_input)"
   ]
  },
  {
   "cell_type": "code",
   "execution_count": null,
   "metadata": {},
   "outputs": [],
   "source": []
  },
  {
   "cell_type": "code",
   "execution_count": null,
   "metadata": {},
   "outputs": [],
   "source": []
  },
  {
   "cell_type": "code",
   "execution_count": null,
   "metadata": {},
   "outputs": [],
   "source": []
  },
  {
   "cell_type": "code",
   "execution_count": null,
   "metadata": {},
   "outputs": [],
   "source": []
  },
  {
   "cell_type": "code",
   "execution_count": null,
   "metadata": {},
   "outputs": [],
   "source": []
  },
  {
   "cell_type": "code",
   "execution_count": null,
   "metadata": {},
   "outputs": [],
   "source": []
  },
  {
   "cell_type": "code",
   "execution_count": null,
   "metadata": {},
   "outputs": [],
   "source": []
  }
 ],
 "metadata": {
  "kernelspec": {
   "display_name": "Python 3",
   "language": "python",
   "name": "python3"
  },
  "language_info": {
   "codemirror_mode": {
    "name": "ipython",
    "version": 3
   },
   "file_extension": ".py",
   "mimetype": "text/x-python",
   "name": "python",
   "nbconvert_exporter": "python",
   "pygments_lexer": "ipython3",
   "version": "3.7.1"
  }
 },
 "nbformat": 4,
 "nbformat_minor": 2
}
